{
 "cells": [
  {
   "cell_type": "markdown",
   "id": "a911ba53-f148-436a-a84b-a107b118cb5e",
   "metadata": {},
   "source": [
    "## Import functions "
   ]
  },
  {
   "cell_type": "markdown",
   "id": "be9e4e47-d0ea-4958-a22d-da09b20076c7",
   "metadata": {},
   "source": [
    "#### <span style=\"color:red\">*JUST RUN CELL*</span>\n"
   ]
  },
  {
   "cell_type": "code",
   "execution_count": 1,
   "id": "239dbd34-388b-4dfe-94a7-02fb4184eea0",
   "metadata": {},
   "outputs": [
    {
     "name": "stdout",
     "output_type": "stream",
     "text": [
      "PyTorch Version:  1.10.1\n",
      "Torchvision Version:  0.11.2\n"
     ]
    }
   ],
   "source": [
    "import os \n",
    "import sys\n",
    "import numpy as np\n",
    "#os.chdir(os.path.join(\"/home/datawork-osmose/\",'osmoseNotebooks_v0','source'))\n",
    "\n",
    "os.chdir(os.path.join(\"/home/datawork-osmose/osmoseNotebooks_v0/source/Functions_AI\"))\n",
    "from TrainNetwork import TrainNetwork_main \n",
    "from launcher_datasetScale import list_datasets\n",
    "from Check_files_in_AI_folders import CheckAvailableAI_tasks_BM_model, CheckAvailableAI_DataSplit\n"
   ]
  },
  {
   "cell_type": "markdown",
   "id": "431855bb-1d21-48a5-8756-f29c59125a6f",
   "metadata": {},
   "source": [
    "## Selection of dataset, task, benchmark and datasplit"
   ]
  },
  {
   "cell_type": "markdown",
   "id": "3708a79e-3a4c-4afe-afd3-91287115fa62",
   "metadata": {},
   "source": [
    "#### <span style=\"color:red\">*RUN CELL & FILL*</span>\n",
    "\n",
    "- ``dataset_ID`` : nom du jeu de données à traiter\n"
   ]
  },
  {
   "cell_type": "code",
   "execution_count": 2,
   "id": "2f144bfe-8591-40cf-9404-d13784812eec",
   "metadata": {},
   "outputs": [
    {
     "name": "stdout",
     "output_type": "stream",
     "text": [
      "Available datasets:\n",
      "  - Glider\n"
     ]
    }
   ],
   "source": [
    "list_datasets()"
   ]
  },
  {
   "cell_type": "code",
   "execution_count": 3,
   "id": "525370f9-56b7-417c-b96a-4264205d1d1b",
   "metadata": {},
   "outputs": [],
   "source": [
    "dataset_ID = 'Glider'\n",
    "\n",
    "#display_metadata(dataset_ID)"
   ]
  },
  {
   "cell_type": "markdown",
   "id": "056131f6-da18-41cf-9b7d-d19f6f09012a",
   "metadata": {},
   "source": [
    "#### <span style=\"color:red\">*RUN CELL & FILL*</span>\n",
    "\n",
    "It will print all the folder in the AI branch.\n",
    "\n",
    "- `` Task_ID `` : The First Level is for the Task.    (nb : for now, only 'Task1_DetWeakLabel' available)\n",
    "- ``BM_Name`` : The Second Level is for the BenchMark - . A BenchMark is composed by different model that will be compared. (Different architecture, different dataset subdivision, differents representation, ...)\n",
    "- The Third Level is for the dataset used - same notation than the folder that contains specrograms : \"analysis_sf\"_\"LengthFile\"\n",
    "    - ``analysis_fs`` : Fréquence d'échantillonnage des fichier à traiter (en Hz)\n",
    "    - ``LengthFile`` : Durée (en secondes) des fichiers à traiter"
   ]
  },
  {
   "cell_type": "code",
   "execution_count": 4,
   "id": "2ad27eed-49bd-4cd8-a7d9-267b34d3e471",
   "metadata": {},
   "outputs": [
    {
     "name": "stdout",
     "output_type": "stream",
     "text": [
      "/\n",
      "Task1_DetWeakLabel/\n",
      "    DetWL_BlueWhaleAus/\n",
      "        50_500/\n"
     ]
    }
   ],
   "source": [
    "CheckAvailableAI_tasks_BM_model(dataset_ID)"
   ]
  },
  {
   "cell_type": "code",
   "execution_count": 5,
   "id": "0f5792cb-bea1-4e92-a3cd-4b59bbc96bc9",
   "metadata": {},
   "outputs": [],
   "source": [
    "# Select Task_ID :\n",
    "Task_ID = 'Task1_DetWeakLabel'\n",
    "# Select BM_Name :\n",
    "BM_Name = 'DetWL_BlueWhaleAus'\n",
    "\n",
    "# Select analysis_fs and LengthFile :\n",
    "analysis_fs = 500 #Hz\n",
    "LengthFile = 50 #s"
   ]
  },
  {
   "cell_type": "markdown",
   "id": "bbc3e2d1-888a-4f34-8578-f8173b54ced3",
   "metadata": {},
   "source": [
    "#### <span style=\"color:red\">*RUN CELL & FILL*</span>\n",
    "\n",
    "It will print all the existing datasplit\n",
    "\n",
    "- `` SplitName `` : Enter the one you want to use\n"
   ]
  },
  {
   "cell_type": "code",
   "execution_count": 6,
   "id": "06fdf8b8-e239-4bd2-8ba9-a6fcb08b9415",
   "metadata": {},
   "outputs": [
    {
     "name": "stdout",
     "output_type": "stream",
     "text": [
      "info_datasplit/\n",
      "    FullyRandom_v1/\n"
     ]
    }
   ],
   "source": [
    "CheckAvailableAI_DataSplit(dataset_ID, Task_ID, BM_Name, LengthFile, analysis_fs)"
   ]
  },
  {
   "cell_type": "code",
   "execution_count": 7,
   "id": "87834994-73b3-4897-8045-0a5abf48fef6",
   "metadata": {},
   "outputs": [],
   "source": [
    "SplitName = 'FullyRandom_v1'"
   ]
  },
  {
   "cell_type": "markdown",
   "id": "94c57efe-4eec-4932-897b-71b4ba32d370",
   "metadata": {},
   "source": [
    "## Definition of hyperparameters"
   ]
  },
  {
   "cell_type": "markdown",
   "id": "63696557-08df-40a4-8e2d-6ed2f2912ad1",
   "metadata": {},
   "source": [
    "#### <span style=\"color:red\">*FILL & RUN CELL*</span>\n",
    "\n",
    "- `` Version_name `` : Choose a name for your model \n",
    "\n",
    "- `` ModelName `` : Architecture of the model. Please, select one in this list : (for more details, check : https://pytorch.org/vision/main/models.html)\n",
    "    - 'resnet18'\n",
    "    - 'resnet50'\n",
    "    - 'resnet101'\n",
    "    - 'vgg11'\n",
    "    - 'vgg11_bn'\n",
    "    - 'vgg13'\n",
    "    - 'vgg13_bn'\n",
    "    - 'vgg19'\n",
    "    - 'vgg19_bn'\n",
    "    - 'alexnet'\n",
    "    - 'squeezenet'\n",
    "    - 'densenet'\n",
    "    - 'inception'\n",
    "    \n",
    "    \n",
    "- `` use_pretrained `` : (for more details, check : https://pytorch.org/vision/main/models.html) (By default : use_pretrained = True)\n",
    "    - True : if you want to used already pretrained network one reference image dataset and just finetun the last layer \n",
    "    - False : if you want to train your network from random weights and adjust all layers\n",
    "\n",
    "\n",
    "       \n",
    "- `` TrainSetRatio `` : ratio between 0 and 1 of all the developpement set that will be used for the training (the oser part is for testing). (if None : TrainSetRatio = 0.9)\n",
    "\n",
    "- `` batch_size `` : Number of spectrograms per batch (if None : batch_size = 10)\n",
    "- `` learning_rate `` : step size at each iteration while moving toward a minimum of a loss function (if None : learning_rate = 1e-3)\n",
    "- `` num_epochs `` : Number of iteration over all developpement set (if None : num_epochs = 10)\n",
    "\n",
    "- `` Dyn `` : Numpy array with two elements np.array([LevelMindB,LevelMaxdB]). Define the lower and upper level threshold apply on the spectrograms. If Dyn=None, we will use the dynamic applied for the visualisation. (By default : Dyn = None)\n",
    "\n"
   ]
  },
  {
   "cell_type": "code",
   "execution_count": 10,
   "id": "c691bc36-d890-4df0-ab64-c91e337f44ef",
   "metadata": {},
   "outputs": [],
   "source": [
    "Version_name = 'V1_alexnet_pt'\n",
    "\n",
    "ModelName = 'alexnet'\n",
    "use_pretrained = True\n",
    "\n",
    "TrainSetRatio = 0.9\n",
    "\n",
    "batch_size = 10\n",
    "learning_rate = 1e-4\n",
    "num_epochs = 100\n",
    "\n",
    "Dyn = np.array([-20,20])"
   ]
  },
  {
   "cell_type": "code",
   "execution_count": null,
   "id": "3b63647e-9276-4c1f-9266-3e921e817724",
   "metadata": {},
   "outputs": [
    {
     "name": "stdout",
     "output_type": "stream",
     "text": [
      "MODEL INFORMATION : \n",
      " \n",
      "AlexNet(\n",
      "  (features): Sequential(\n",
      "    (0): Conv2d(3, 64, kernel_size=(11, 11), stride=(4, 4), padding=(2, 2))\n",
      "    (1): ReLU(inplace=True)\n",
      "    (2): MaxPool2d(kernel_size=3, stride=2, padding=0, dilation=1, ceil_mode=False)\n",
      "    (3): Conv2d(64, 192, kernel_size=(5, 5), stride=(1, 1), padding=(2, 2))\n",
      "    (4): ReLU(inplace=True)\n",
      "    (5): MaxPool2d(kernel_size=3, stride=2, padding=0, dilation=1, ceil_mode=False)\n",
      "    (6): Conv2d(192, 384, kernel_size=(3, 3), stride=(1, 1), padding=(1, 1))\n",
      "    (7): ReLU(inplace=True)\n",
      "    (8): Conv2d(384, 256, kernel_size=(3, 3), stride=(1, 1), padding=(1, 1))\n",
      "    (9): ReLU(inplace=True)\n",
      "    (10): Conv2d(256, 256, kernel_size=(3, 3), stride=(1, 1), padding=(1, 1))\n",
      "    (11): ReLU(inplace=True)\n",
      "    (12): MaxPool2d(kernel_size=3, stride=2, padding=0, dilation=1, ceil_mode=False)\n",
      "  )\n",
      "  (avgpool): AdaptiveAvgPool2d(output_size=(6, 6))\n",
      "  (classifier): Sequential(\n",
      "    (0): Dropout(p=0.5, inplace=False)\n",
      "    (1): Linear(in_features=9216, out_features=4096, bias=True)\n",
      "    (2): ReLU(inplace=True)\n",
      "    (3): Dropout(p=0.5, inplace=False)\n",
      "    (4): Linear(in_features=4096, out_features=4096, bias=True)\n",
      "    (5): ReLU(inplace=True)\n",
      "    (6): Sequential(\n",
      "      (0): Linear(in_features=4096, out_features=1, bias=True)\n",
      "      (1): Sigmoid()\n",
      "    )\n",
      "  )\n",
      ")\n",
      "Params to learn:\n",
      "\t classifier.6.0.weight\n",
      "\t classifier.6.0.bias\n",
      " \n",
      "TRAINNING : \n",
      "Epoch TRAIN [0/100]  -- Loss = 0.5303218249858755  --  iteration [493/493]  \n",
      "Epoch TEST [0/100]  -- Loss = 0.4441517550084326  --  iteration [54/54]  \n",
      "Epoch TRAIN [1/100]  -- Loss = 0.47605749728955316  --  iteration [493/493]  \n",
      "Epoch TEST [1/100]  -- Loss = 0.4095099722897565  --  iteration [54/54]]  \n",
      "Epoch TRAIN [2/100]  -- Loss = 0.46043868053092435  --  iteration [493/493]  \n",
      "Epoch TEST [2/100]  -- Loss = 0.3939813632104132  --  iteration [54/54]  \n",
      "Epoch TRAIN [3/100]  -- Loss = 0.45244115491305115  --  iteration [493/493]  \n",
      "Epoch TEST [3/100]  -- Loss = 0.38999226358201766  --  iteration [54/54]  \n",
      "Epoch TRAIN [4/100]  -- Loss = 0.45455416116644354  --  iteration [493/493]  \n",
      "Epoch TEST [4/100]  -- Loss = 0.38039399186770123  --  iteration [54/54]  \n",
      "Epoch TRAIN [5/100]  -- Loss = 0.4411022910663129  --  iteration [493/493]]  \n",
      "Epoch TEST [5/100]  -- Loss = 0.37954137432906365  --  iteration [54/54]  \n",
      "Epoch TRAIN [6/100]  -- Loss = 0.43949454301934215  --  iteration [493/493]  \n",
      "Epoch TEST [6/100]  -- Loss = 0.36944831162691116  --  iteration [54/54]  \n",
      "Epoch TRAIN [7/100]  -- Loss = 0.438483632723168  --  iteration [493/493]  \n",
      "Epoch TEST [7/100]  -- Loss = 0.37182889216476017  --  iteration [54/54]  \n",
      "Epoch TRAIN [8/100]  -- Loss = 0.43982870116618294  --  iteration [493/493]  \n",
      "Epoch TEST [8/100]  -- Loss = 0.3673185830314954  --  iteration [54/54]  \n",
      "Epoch TRAIN [9/100]  -- Loss = 0.43941391315348977  --  iteration [493/493]  \n",
      "Epoch TEST [9/100]  -- Loss = 0.3773464241789447  --  iteration [54/54]  \n",
      "Epoch TRAIN [10/100]  -- Loss = 0.4303283555391594  --  iteration [493/493]]  \n",
      "Epoch TEST [10/100]  -- Loss = 0.3662895978324943  --  iteration [54/54]  \n",
      "Epoch TRAIN [11/100]  -- Loss = 0.44052804832707554  --  iteration [493/493]  \n",
      "Epoch TEST [11/100]  -- Loss = 0.36216770816180444  --  iteration [54/54]  \n",
      "Epoch TRAIN [12/100]  -- Loss = 0.4317324862005019  --  iteration [493/493]  \n",
      "Epoch TEST [12/100]  -- Loss = 0.3651115919152896  --  iteration [54/54]  \n",
      "Epoch TRAIN [13/100]  -- Loss = 0.4329512371675963  --  iteration [493/493]  \n",
      "Epoch TEST [13/100]  -- Loss = 0.3632908836007118  --  iteration [54/54]  \n",
      "Epoch TRAIN [14/100]  -- Loss = 0.43515911631845317  --  iteration [493/493]  \n",
      "Epoch TEST [14/100]  -- Loss = 0.359450807587968  --  iteration [54/54]  \n",
      "Epoch TRAIN [15/100]  -- Loss = 0.4343250696424538  --  iteration [493/493]  \n",
      "Epoch TEST [15/100]  -- Loss = 0.36256708287530476  --  iteration [54/54]  \n",
      "Epoch TRAIN [16/100]  -- Loss = 0.438156967986428  --  iteration [493/493]  \n",
      "Epoch TEST [16/100]  -- Loss = 0.3601439149567374  --  iteration [54/54]  \n",
      "Epoch TRAIN [17/100]  -- Loss = 0.43048391912820133  --  iteration [493/493]  \n",
      "Epoch TEST [17/100]  -- Loss = 0.36009005553744455  --  iteration [54/54]  \n",
      "Epoch TRAIN [18/100]  -- Loss = 0.43381627046070526  --  iteration [493/493]  \n",
      "Epoch TEST [18/100]  -- Loss = 0.36075839979781044  --  iteration [54/54]  \n",
      "Epoch TRAIN [19/100]  -- Loss = 0.4268130640259379  --  iteration [493/493]  \n",
      "Epoch TEST [19/100]  -- Loss = 0.35813716067760076  --  iteration [54/54]  \n",
      "Epoch TRAIN [20/100]  -- Loss = 0.4298894113840244  --  iteration [493/493]]  \n",
      "Epoch TEST [20/100]  -- Loss = 0.36306849508373823  --  iteration [54/54]  \n",
      "Epoch TRAIN [21/100]  -- Loss = 0.4188116954046379  --  iteration [493/493]]  \n",
      "Epoch TEST [21/100]  -- Loss = 0.354266321355546  --  iteration [54/54]  \n",
      "Epoch TRAIN [22/100]  -- Loss = 0.4229248293635811  --  iteration [493/493]  \n",
      "Epoch TEST [22/100]  -- Loss = 0.3553603629547137  --  iteration [54/54]  \n",
      "Epoch TRAIN [23/100]  -- Loss = 0.41377459008541356  --  iteration [493/493]  \n",
      "Epoch TEST [23/100]  -- Loss = 0.3549679763339184  --  iteration [54/54]  \n",
      "Epoch TRAIN [24/100]  -- Loss = 0.42141126083402797  --  iteration [493/493]  \n",
      "Epoch TEST [24/100]  -- Loss = 0.3555333788196246  --  iteration [54/54]  \n",
      "Epoch TRAIN [25/100]  -- Loss = 0.4216121093164109  --  iteration [493/493]  \n",
      "Epoch TEST [25/100]  -- Loss = 0.36519037504439  --  iteration [54/54]  ]\n",
      "Epoch TRAIN [26/100]  -- Loss = 0.4242302388043481  --  iteration [493/493]]  \n",
      "Epoch TEST [26/100]  -- Loss = 0.3514993508104925  --  iteration [54/54]  \n",
      "Epoch TRAIN [27/100]  -- Loss = 0.4217024190430709  --  iteration [493/493]]  \n",
      "Epoch TEST [27/100]  -- Loss = 0.3593158499786147  --  iteration [54/54]  \n",
      "Epoch TRAIN [28/100]  -- Loss = 0.42339961847354624  --  iteration [493/493]  \n",
      "Epoch TEST [28/100]  -- Loss = 0.35855389000089083  --  iteration [54/54]  \n",
      "Epoch TRAIN [29/100]  -- Loss = 0.42281987994123427  --  iteration [493/493]  \n",
      "Epoch TEST [29/100]  -- Loss = 0.35618855128133736  --  iteration [54/54]  \n",
      "Epoch TRAIN [30/100]  -- Loss = 0.41733603183988627  --  iteration [493/493]  \n",
      "Epoch TEST [30/100]  -- Loss = 0.3530688474851626  --  iteration [54/54]  \n",
      "Epoch TRAIN [31/100]  -- Loss = 0.4249631602007284  --  iteration [493/493]  \n",
      "Epoch TEST [31/100]  -- Loss = 0.35176021688514286  --  iteration [54/54]  \n",
      "Epoch TRAIN [32/100]  -- Loss = 0.4154688789684922  --  iteration [493/493]  \n",
      "Epoch TEST [32/100]  -- Loss = 0.35347836809577765  --  iteration [54/54]  \n",
      "Epoch TRAIN [33/100]  -- Loss = 0.4187413046616328  --  iteration [493/493]]  \n",
      "Epoch TEST [33/100]  -- Loss = 0.3526240265755742  --  iteration [54/54]  \n",
      "Epoch TRAIN [34/100]  -- Loss = 0.42026969669556763  --  iteration [493/493]  \n",
      "Epoch TEST [34/100]  -- Loss = 0.35228982719558255  --  iteration [54/54]  \n",
      "Epoch TRAIN [35/100]  -- Loss = 0.4219803438195109  --  iteration [493/493]]  \n",
      "Epoch TEST [35/100]  -- Loss = 0.3568762452514083  --  iteration [54/54]  \n",
      "Epoch TRAIN [36/100]  -- Loss = 0.42070846363871867  --  iteration [493/493]  \n",
      "Epoch TEST [36/100]  -- Loss = 0.35110885787893226  --  iteration [54/54]  \n",
      "Epoch TRAIN [37/100]  -- Loss = 0.42029098022358896  --  iteration [493/493]  \n",
      "Epoch TEST [37/100]  -- Loss = 0.35309845995571876  --  iteration [54/54]  \n",
      "Epoch TRAIN [38/100]  -- Loss = 0.4223719270064913  --  iteration [493/493]  \n",
      "Epoch TEST [38/100]  -- Loss = 0.35346759483218193  --  iteration [54/54]  \n",
      "Epoch TRAIN [39/100]  -- Loss = 0.418561772645487  --  iteration [493/493]]]  \n",
      "Epoch TEST [39/100]  -- Loss = 0.35342174395918846  --  iteration [54/54]  \n",
      "Epoch TRAIN [40/100]  -- Loss = 0.41534093407721356  --  iteration [493/493]  \n",
      "Epoch TEST [40/100]  -- Loss = 0.3491055340402656  --  iteration [54/54]]  \n",
      "Epoch TRAIN [41/100]  -- Loss = 0.41508348727443883  --  iteration [493/493]  \n",
      "Epoch TEST [41/100]  -- Loss = 0.3481118165784412  --  iteration [54/54]]  \n",
      "Epoch TRAIN [42/100]  -- Loss = 0.42160764344898005  --  iteration [493/493]  \n",
      "Epoch TEST [42/100]  -- Loss = 0.35414182311958736  --  iteration [54/54]  \n",
      "Epoch TRAIN [43/100]  -- Loss = 0.41912405091596666  --  iteration [493/493]  \n",
      "Epoch TEST [43/100]  -- Loss = 0.3499291388800851  --  iteration [54/54]]  \n",
      "Epoch TRAIN [44/100]  -- Loss = 0.42091833038395365  --  iteration [493/493]  \n",
      "Epoch TEST [44/100]  -- Loss = 0.3554110713303089  --  iteration [54/54]  \n",
      "Epoch TRAIN [45/100]  -- Loss = 0.41740818052698103  --  iteration [493/493]  \n",
      "Epoch TEST [45/100]  -- Loss = 0.34965602294714365  --  iteration [54/54]  \n",
      "Epoch TRAIN [46/100]  -- Loss = 0.4205189607810781  --  iteration [493/493]]  \n",
      "Epoch TEST [46/100]  -- Loss = 0.3508722108823282  --  iteration [54/54]  \n",
      "Epoch TRAIN [47/100]  -- Loss = 0.41929478594243647  --  iteration [493/493]  \n",
      "Epoch TEST [47/100]  -- Loss = 0.3482477605618812  --  iteration [54/54]]  \n",
      "Epoch TRAIN [48/100]  -- Loss = 0.415269329070924  --  iteration [493/493]3]  \n",
      "Epoch TEST [48/100]  -- Loss = 0.34911066887003406  --  iteration [54/54]  \n",
      "Epoch TRAIN [49/100]  -- Loss = 0.4183112768868162  --  iteration [493/493]]  \n",
      "Epoch TEST [49/100]  -- Loss = 0.34788868976411996  --  iteration [54/54]  \n",
      "Epoch TRAIN [50/100]  -- Loss = 0.41460771127235574  --  iteration [493/493]  \n",
      "Epoch TEST [50/100]  -- Loss = 0.3533693832103853  --  iteration [54/54]  \n",
      "Epoch TRAIN [51/100]  -- Loss = 0.4159077254499915  --  iteration [493/493]  \n",
      "Epoch TEST [51/100]  -- Loss = 0.34352418062863527  --  iteration [54/54]  \n",
      "Epoch TRAIN [52/100]  -- Loss = 0.42230023776179154  --  iteration [493/493]  \n",
      "Epoch TEST [52/100]  -- Loss = 0.3600970527364148  --  iteration [54/54]  \n",
      "Epoch TRAIN [53/100]  -- Loss = 0.41790385943276404  --  iteration [493/493]  \n",
      "Epoch TEST [53/100]  -- Loss = 0.34910076994586875  --  iteration [54/54]  \n",
      "Epoch TRAIN [54/100]  -- Loss = 0.42410441113231634  --  iteration [493/493]  \n",
      "Epoch TEST [54/100]  -- Loss = 0.3469514857839655  --  iteration [54/54]  \n",
      "Epoch TRAIN [55/100]  -- Loss = 0.4211323199752136  --  iteration [493/493]]  \n",
      "Epoch TEST [55/100]  -- Loss = 0.3504398764559516  --  iteration [54/54]  \n",
      "Epoch TRAIN [56/100]  -- Loss = 0.412072428084653  --  iteration [493/493]]]  \n",
      "Epoch TEST [56/100]  -- Loss = 0.3493900579158907  --  iteration [54/54]  \n",
      "Epoch TRAIN [57/100]  -- Loss = 0.42290970404267797  --  iteration [493/493]  \n",
      "Epoch TEST [57/100]  -- Loss = 0.3565832010849758  --  iteration [54/54]  \n",
      "Epoch TRAIN [58/100]  -- Loss = 0.41883467512609507  --  iteration [493/493]  \n",
      "Epoch TEST [58/100]  -- Loss = 0.3458460573520925  --  iteration [54/54]  \n",
      "Epoch TRAIN [59/100]  -- Loss = 0.4124583043082491  --  iteration [493/493]]  \n",
      "Epoch TEST [59/100]  -- Loss = 0.3459011083123861  --  iteration [54/54]]  \n",
      "Epoch TRAIN [60/100]  -- Loss = 0.4046979446349473  --  iteration [493/493]]  \n",
      "Epoch TEST [60/100]  -- Loss = 0.35076617421927275  --  iteration [54/54]  \n",
      "Epoch TRAIN [61/100]  -- Loss = 0.427372568300179  --  iteration [493/493]  \n",
      "Epoch TEST [61/100]  -- Loss = 0.35450330045488143  --  iteration [54/54]  \n",
      "Epoch TRAIN [62/100]  -- Loss = 0.4145416040086843  --  iteration [493/493]]  \n",
      "Epoch TEST [62/100]  -- Loss = 0.3503908771607611  --  iteration [54/54]]  \n",
      "Epoch TRAIN [63/100]  -- Loss = 0.4137548554771812  --  iteration [493/493]]  \n",
      "Epoch TEST [63/100]  -- Loss = 0.3464240148939468  --  iteration [54/54]]  \n",
      "Epoch TRAIN [64/100]  -- Loss = 0.4164998766798035  --  iteration [493/493]  \n",
      "Epoch TEST [64/100]  -- Loss = 0.3543567188360073  --  iteration [54/54]]  \n",
      "Epoch TRAIN [65/100]  -- Loss = 0.4228297480765511  --  iteration [493/493]]  \n",
      "Epoch TEST [65/100]  -- Loss = 0.34909576094812816  --  iteration [54/54]  \n",
      "Epoch TRAIN [66/100]  -- Loss = 0.422462036852058  --  iteration [493/493]3]  \n",
      "Epoch TEST [66/100]  -- Loss = 0.34965731051784976  --  iteration [54/54]  \n",
      "Epoch TRAIN [67/100]  -- Loss = 0.41589352477938846  --  iteration [493/493]  \n",
      "Epoch TEST [67/100]  -- Loss = 0.34631515804816176  --  iteration [54/54]  \n",
      "Epoch TRAIN [68/100]  -- Loss = 0.4205679241227813  --  iteration [493/493]  \n",
      "Epoch TEST [68/100]  -- Loss = 0.3539182237452931  --  iteration [54/54]]  \n",
      "Epoch TRAIN [69/100]  -- Loss = 0.416815276425823  --  iteration [493/493]]]  \n",
      "Epoch TEST [69/100]  -- Loss = 0.3473388410552784  --  iteration [54/54]  \n",
      "Epoch TRAIN [70/100]  -- Loss = 0.41819615513993086  --  iteration [493/493]  \n",
      "Epoch TEST [70/100]  -- Loss = 0.34479077836429634  --  iteration [54/54]  \n",
      "Epoch TRAIN [71/100]  -- Loss = 0.4010247023082247  --  iteration [255/493]]"
     ]
    }
   ],
   "source": [
    "TrainNetwork_main(dataset_ID=dataset_ID, Task_ID=Task_ID, BM_Name=BM_Name, LengthFile=LengthFile, Fs=analysis_fs, SplitName=SplitName, Version_name=Version_name, ModelName=ModelName, use_pretrained=use_pretrained, TrainSetRatio=TrainSetRatio, batch_size = batch_size, learning_rate=learning_rate, num_epochs=num_epochs, Dyn=Dyn)"
   ]
  },
  {
   "cell_type": "code",
   "execution_count": null,
   "id": "80fb1576-53a5-4c62-9b80-ab8acb0db7b2",
   "metadata": {},
   "outputs": [],
   "source": []
  },
  {
   "cell_type": "code",
   "execution_count": null,
   "id": "e455bd82-6454-4fba-a7f4-9086e4a4f438",
   "metadata": {},
   "outputs": [],
   "source": []
  }
 ],
 "metadata": {
  "kernelspec": {
   "display_name": "Python 3",
   "language": "python",
   "name": "python3"
  },
  "language_info": {
   "codemirror_mode": {
    "name": "ipython",
    "version": 3
   },
   "file_extension": ".py",
   "mimetype": "text/x-python",
   "name": "python",
   "nbconvert_exporter": "python",
   "pygments_lexer": "ipython3",
   "version": "3.8.8"
  }
 },
 "nbformat": 4,
 "nbformat_minor": 5
}
