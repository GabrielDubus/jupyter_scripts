{
 "cells": [
  {
   "cell_type": "markdown",
   "id": "9acd6f5e-81ed-435f-9998-fc4d47933580",
   "metadata": {},
   "source": [
    "## Import functions \n",
    "\n",
    "#### <span style=\"color:blue\">*JUST RUN CELL*</span>"
   ]
  },
  {
   "cell_type": "code",
   "execution_count": 1,
   "id": "bf2d82f1-2d82-42d0-8d3a-86e2e42f939b",
   "metadata": {},
   "outputs": [],
   "source": [
    "import os \n",
    "import sys\n",
    "#os.chdir(os.path.join(\"/home/datawork-osmose/\",'osmoseNotebooks_v0','source'))\n",
    "\n",
    "with open('path_codes.txt') as f:\n",
    "    codes_path = f.readlines()[0]\n",
    "\n",
    "os.chdir(os.path.join(codes_path))\n",
    "from CreateDatasetForTorch import CreatDatasetForTorch_main\n",
    "from launcher_datasetScale import list_datasets\n",
    "from Check_files_in_AI_folders import CheckAvailableAI_tasks_BM_model, CheckAvailableAnnotation, CheckAvailable_labels_annotators\n"
   ]
  },
  {
   "cell_type": "markdown",
   "id": "3a55e4ac-caaf-468f-8d98-4d81b2d8ee40",
   "metadata": {},
   "source": [
    "## Selection of dataset and annotation file (APLOSE format) "
   ]
  },
  {
   "cell_type": "markdown",
   "id": "f41c85b8-b57b-4f85-9ee1-60893a05c301",
   "metadata": {},
   "source": [
    "#### <span style=\"color:red\">*RUN CELL & FILL*</span>\n",
    "\n",
    "- ``dataset_ID`` : nom du jeu de données à traiter\n"
   ]
  },
  {
   "cell_type": "code",
   "execution_count": 2,
   "id": "f19fe1e6-e4c1-458b-9878-bcee4ead2911",
   "metadata": {},
   "outputs": [
    {
     "name": "stdout",
     "output_type": "stream",
     "text": [
      "Available datasets:\n",
      "  - Glider\n"
     ]
    }
   ],
   "source": [
    "list_datasets()"
   ]
  },
  {
   "cell_type": "code",
   "execution_count": 3,
   "id": "885c2885-c487-41c0-92de-3a5b3267bf0d",
   "metadata": {},
   "outputs": [],
   "source": [
    "dataset_ID = 'Glider'\n",
    "\n",
    "#display_metadata(dataset_ID)"
   ]
  },
  {
   "cell_type": "markdown",
   "id": "6204af44-73ba-4777-825b-c1d52d0fdd53",
   "metadata": {},
   "source": [
    "#### <span style=\"color:red\">*RUN CELL & FILL*</span>"
   ]
  },
  {
   "cell_type": "markdown",
   "id": "785d726a-e164-4a5e-b7b9-0c33f9ce54c1",
   "metadata": {},
   "source": [
    "It will print all the annotaion file from APLOSE available on datarmore. Please, select the one that you want to use"
   ]
  },
  {
   "cell_type": "code",
   "execution_count": 4,
   "id": "8081bf3e-3925-42f5-969d-c3215485d1a0",
   "metadata": {},
   "outputs": [
    {
     "name": "stdout",
     "output_type": "stream",
     "text": [
      "/\n",
      "    APLOSE_Glider_SPAmsLF_ManualAnnotations_V2.csv\n"
     ]
    }
   ],
   "source": [
    "CheckAvailableAnnotation(dataset_ID)"
   ]
  },
  {
   "cell_type": "code",
   "execution_count": 5,
   "id": "8d7f8c17-6f88-469e-98d3-9db220ef91d3",
   "metadata": {},
   "outputs": [
    {
     "name": "stdout",
     "output_type": "stream",
     "text": [
      "Labels Annotated :  ['Bb.Aus', 'Bb.Mad', 'Bm.P', 'Bm.D', 'Bm.Ant']\n",
      "Annotators :  ['Julie']\n"
     ]
    }
   ],
   "source": [
    "#Select Annotation csv file from Aplose \n",
    "file_annotation = \"APLOSE_Glider_SPAmsLF_ManualAnnotations_V2.csv\"\n",
    "\n",
    "CheckAvailable_labels_annotators(dataset_ID, file_annotation)"
   ]
  },
  {
   "cell_type": "markdown",
   "id": "c313fbed-c026-4909-abba-dddf912fd631",
   "metadata": {},
   "source": [
    "## Selection of specific annotations\n",
    "\n",
    "#### <span style=\"color:red\">*FILL*</span>"
   ]
  },
  {
   "cell_type": "markdown",
   "id": "19681e83-9731-4bd7-a445-511e8400bd31",
   "metadata": {},
   "source": [
    "Please, select the labels and annotators that you wana keep for your network\n",
    "\n",
    "Exemple : \n",
    "\n",
    "- ``LabelsList`` = ['Specie1', 'Specie2', 'Specie3']\n",
    "- ``AnnotatorsList`` = ['Name1', 'Name2']\n",
    "\n",
    "Others Parameters :\n",
    "\n",
    "- ``AnnotationType`` : Choose if you want to use box annotation or binary/weak annotation from the csv Aplose : **!!! At the moment, only 'Box' available' !!!**\n",
    "    - 'Box'\n",
    "    - 'Weak'\n",
    "    - 'Both'\n",
    "    **For now, in all cases, those annotation will be turn into weak annotation for each spectrogram**\n",
    "<br>   \n",
    "   <br> \n",
    "- ``Crop_duration`` : Time (in second) cropped at the start and end of the annotation (if you think the annotation does not exactly fit the sound of interest). "
   ]
  },
  {
   "cell_type": "code",
   "execution_count": 6,
   "id": "25e59574-6e2a-40e5-a5f9-eaf46793f986",
   "metadata": {},
   "outputs": [],
   "source": [
    "#Select Label(s) to detect in list above\n",
    "LabelsList = ['Bb.Aus']\n",
    "\n",
    "#Select annotator(s) for reference in list above\n",
    "AnnotatorsList = ['Julie'] \n",
    "\n",
    "#Select annoation type to keep\n",
    "#For now, only 'Box' available !!\n",
    "AnnotationType = 'Box' # 'Weak' or 'Box' \n",
    "\n",
    "# Do you want to crop a bit the annotation for more accuracy ?\n",
    "Crop_duration = 3 #s"
   ]
  },
  {
   "cell_type": "markdown",
   "id": "3664842d-566e-4ff0-b7ae-42be559201e0",
   "metadata": {},
   "source": [
    "## Selection of Task and Benchmark\n",
    "\n",
    "#### <span style=\"color:red\">*RUN CELL & FILL*</span>"
   ]
  },
  {
   "cell_type": "markdown",
   "id": "09241845-e8ac-4fc8-aab8-e6f6aa6e98c4",
   "metadata": {},
   "source": [
    "It will print all the folder in the AI branch.\n",
    "\n",
    "- The First Level is for the Task.    **(nb : for now, only 'Task1_DetWeakLabel' available)**\n",
    "- The Second Level is for the BenchMark. You Can Chose the name as you want. A BenchMark is composed by different model that will be compared. (Different architecture, different dataset subdivision, differents representation, ...)\n",
    "- The Third Level is for the dataset used - same notation than the folder that contains specrograms : \"analysis_sf\"_\"LengthFile\"\n",
    "    - ``analysis_fs`` : Fréquence d'échantillonnage des fichier à traiter (en Hz)\n",
    "    - ``LengthFile`` : Durée (en secondes) des fichiers à traiter"
   ]
  },
  {
   "cell_type": "code",
   "execution_count": 7,
   "id": "be262406-0d15-4e78-b600-c1bd396d1ddc",
   "metadata": {},
   "outputs": [],
   "source": [
    "CheckAvailableAI_tasks_BM_model(dataset_ID)"
   ]
  },
  {
   "cell_type": "code",
   "execution_count": 8,
   "id": "d553d438-d4c4-447b-9c05-ff71dd1aef3d",
   "metadata": {},
   "outputs": [],
   "source": [
    "# AI Task to create :\n",
    "Task_ID = 'Task1_DetWeakLabel'\n",
    "# AI Model to create :\n",
    "BM_Name = 'DetWL_BlueWhaleAus'\n",
    "\n",
    "# Please Select one already available in the [3]rd cell !!\n",
    "analysis_fs = 500 #Hz\n",
    "LengthFile = 50 #s"
   ]
  },
  {
   "cell_type": "markdown",
   "id": "a3a41933-7b1c-4898-8c26-d02790c948c7",
   "metadata": {},
   "source": [
    "## Create Dataset for Network\n",
    "\n",
    "#### <span style=\"color:blue\">*JUST RUN CELL*</span>"
   ]
  },
  {
   "cell_type": "code",
   "execution_count": 9,
   "id": "71baccc7-49db-40e6-b165-2abe2a886c89",
   "metadata": {},
   "outputs": [
    {
     "name": "stderr",
     "output_type": "stream",
     "text": [
      "100%|██████████| 10147/10147 [00:19<00:00, 514.67it/s]\n"
     ]
    },
    {
     "name": "stdout",
     "output_type": "stream",
     "text": [
      "Nombre de fichier :  54888\n",
      "Bb.Aus  -> pourcentage de Positif :      30.630 %\n",
      "DONE ! \n",
      "Next step : Define Test, Train and Validation for your network !\n"
     ]
    }
   ],
   "source": [
    "CreatDatasetForTorch_main(dataset_ID, LengthFile, analysis_fs, Task_ID, BM_Name, file_annotation, LabelsList, AnnotatorsList, AnnotationType, Crop_duration)"
   ]
  },
  {
   "cell_type": "code",
   "execution_count": null,
   "id": "4fef7b03-4c53-49fb-bbf1-f6378b16dac7",
   "metadata": {},
   "outputs": [],
   "source": []
  }
 ],
 "metadata": {
  "kernelspec": {
   "display_name": "Python 3",
   "language": "python",
   "name": "python3"
  },
  "language_info": {
   "codemirror_mode": {
    "name": "ipython",
    "version": 3
   },
   "file_extension": ".py",
   "mimetype": "text/x-python",
   "name": "python",
   "nbconvert_exporter": "python",
   "pygments_lexer": "ipython3",
   "version": "3.8.8"
  }
 },
 "nbformat": 4,
 "nbformat_minor": 5
}
