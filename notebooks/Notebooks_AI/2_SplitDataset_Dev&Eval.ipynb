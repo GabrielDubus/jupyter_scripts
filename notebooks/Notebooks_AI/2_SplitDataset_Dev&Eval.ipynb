{
 "cells": [
  {
   "cell_type": "markdown",
   "id": "9acd6f5e-81ed-435f-9998-fc4d47933580",
   "metadata": {},
   "source": [
    "## Import functions "
   ]
  },
  {
   "cell_type": "markdown",
   "id": "37dfc673-365b-40ba-a59a-69aa1dfdb6ad",
   "metadata": {},
   "source": [
    "#### <span style=\"color:blue\">*JUST RUN CELL*</span>"
   ]
  },
  {
   "cell_type": "markdown",
   "id": "bf0d6ffd-d4c4-4fad-bd17-e59da38c4af7",
   "metadata": {},
   "source": [
    "Notes pour Dorian :\n",
    "Les premières cellulues sont des copies des notebooks précédents pour accéder aux différents datasets"
   ]
  },
  {
   "cell_type": "code",
   "execution_count": 1,
   "id": "bf2d82f1-2d82-42d0-8d3a-86e2e42f939b",
   "metadata": {},
   "outputs": [],
   "source": [
    "import os \n",
    "import sys\n",
    "#os.chdir(os.path.join(\"/home/datawork-osmose/\",'osmoseNotebooks_v0','source'))\n",
    "\n",
    "with open('path_codes.txt') as f:\n",
    "    codes_path = f.readlines()[0]\n",
    "\n",
    "os.chdir(os.path.join(codes_path))\n",
    "from SplitDataset_DevEval import SplitDataset_DevEval_main\n",
    "from launcher_datasetScale import list_datasets\n",
    "from Check_files_in_AI_folders import CheckAvailableAI_tasks_BM_model\n"
   ]
  },
  {
   "cell_type": "markdown",
   "id": "afe23c18-a2b1-4b17-be6d-beafd4673fbe",
   "metadata": {},
   "source": [
    "## Selection of dataset, task, benchmark "
   ]
  },
  {
   "cell_type": "markdown",
   "id": "f41c85b8-b57b-4f85-9ee1-60893a05c301",
   "metadata": {},
   "source": [
    "#### <span style=\"color:red\">*RUN CELL & FILL*</span>\n",
    "\n",
    "- ``dataset_ID`` : nom du jeu de données à traiter\n"
   ]
  },
  {
   "cell_type": "code",
   "execution_count": 2,
   "id": "f19fe1e6-e4c1-458b-9878-bcee4ead2911",
   "metadata": {},
   "outputs": [
    {
     "name": "stdout",
     "output_type": "stream",
     "text": [
      "Available datasets:\n",
      "  - Glider\n"
     ]
    }
   ],
   "source": [
    "list_datasets()"
   ]
  },
  {
   "cell_type": "code",
   "execution_count": 9,
   "id": "885c2885-c487-41c0-92de-3a5b3267bf0d",
   "metadata": {},
   "outputs": [],
   "source": [
    "dataset_ID = 'Glider'\n",
    "\n",
    "#display_metadata(dataset_ID)"
   ]
  },
  {
   "cell_type": "markdown",
   "id": "3664842d-566e-4ff0-b7ae-42be559201e0",
   "metadata": {},
   "source": [
    "#### <span style=\"color:red\">*RUN CELL & FILL*</span>"
   ]
  },
  {
   "cell_type": "markdown",
   "id": "09241845-e8ac-4fc8-aab8-e6f6aa6e98c4",
   "metadata": {},
   "source": [
    "It will print all the folder in the AI branch.\n",
    "\n",
    "- `` Task_ID `` : The First Level is for the Task.    (nb : for now, only 'Task1_DetWeakLabel' available)\n",
    "- ``BM_Name`` : The Second Level is for the BenchMark - . A BenchMark is composed by different model that will be compared. (Different architecture, different dataset subdivision, differents representation, ...)\n",
    "- The Third Level is for the dataset used - same notation than the folder that contains specrograms : \"analysis_sf\"_\"LengthFile\"\n",
    "    - ``analysis_fs`` : Fréquence d'échantillonnage des fichier à traiter (en Hz)\n",
    "    - ``LengthFile`` : Durée (en secondes) des fichiers à traiter"
   ]
  },
  {
   "cell_type": "code",
   "execution_count": 10,
   "id": "be262406-0d15-4e78-b600-c1bd396d1ddc",
   "metadata": {},
   "outputs": [
    {
     "name": "stdout",
     "output_type": "stream",
     "text": [
      "/\n",
      "Task1_DetWeakLabel/\n",
      "    DetWL_BlueWhaleAus/\n",
      "        50_500/\n"
     ]
    }
   ],
   "source": [
    "CheckAvailableAI_tasks_BM_model(dataset_ID)"
   ]
  },
  {
   "cell_type": "code",
   "execution_count": 11,
   "id": "d553d438-d4c4-447b-9c05-ff71dd1aef3d",
   "metadata": {},
   "outputs": [],
   "source": [
    "# Select Task_ID :\n",
    "Task_ID = 'Task1_DetWeakLabel'\n",
    "# Select BM_Name :\n",
    "BM_Name = 'DetWL_BlueWhaleAus'\n",
    "\n",
    "# Select analysis_fs and LengthFile :\n",
    "analysis_fs = 500 #Hz\n",
    "LengthFile = 50 #s"
   ]
  },
  {
   "cell_type": "markdown",
   "id": "99f70b62-f866-4bb7-9ec6-e048f60b89d4",
   "metadata": {},
   "source": [
    "## Selection of datasplit method define name"
   ]
  },
  {
   "cell_type": "markdown",
   "id": "a3a41933-7b1c-4898-8c26-d02790c948c7",
   "metadata": {},
   "source": [
    "#### <span style=\"color:red\">*FILL & RUN CELL*</span>"
   ]
  },
  {
   "cell_type": "markdown",
   "id": "f44ea440-9ee5-40d9-af57-4b55fb401bf6",
   "metadata": {},
   "source": [
    "- `` SplitName `` : Name you will give to the split - in case you want to compare different split\n",
    "- ``SelectionMethod`` : Method chosen for the split __  **!!! At the moment, only 'FullyRandom' available !!!**\n",
    "    - 'FullyRandom' : the split will complitelly random by mixing all files\n",
    "    - 'RandomBySequence' : the dataset will be divide in N sequence of length ``SelectionMethod`` (in second). Then, all sequence will be randomly distributed in each subset\n",
    "    - 'FromCluster' : The Dev Set will be chosen by selection in cluster (but those clusters need to be already computed)\n",
    "    - 'FromCluster_BySequence'\n",
    "- `` DeveloppmentDatasetPortion `` : Proportion (from 0 to 1) of all the dataset used in Dev Set\n",
    "   "
   ]
  },
  {
   "cell_type": "code",
   "execution_count": 13,
   "id": "b566fd65-0c06-46e0-943d-7de7c24965d5",
   "metadata": {},
   "outputs": [],
   "source": [
    "SplitName = 'FullyRandom_v1'\n",
    "SelectionMethod = 'FullyRandom'\n",
    "DeveloppmentDatasetPortion = 0.1"
   ]
  },
  {
   "cell_type": "markdown",
   "id": "60dc14d3-19d5-4279-b887-56b4a8c620c1",
   "metadata": {},
   "source": [
    "## SPLIT\n",
    "\n",
    "#### <span style=\"color:red\">*JUST RUN CELL*</span>"
   ]
  },
  {
   "cell_type": "code",
   "execution_count": 14,
   "id": "71baccc7-49db-40e6-b165-2abe2a886c89",
   "metadata": {},
   "outputs": [
    {
     "name": "stdout",
     "output_type": "stream",
     "text": [
      "DEV :\n",
      "Nombre de fichier :  5488\n",
      "Bb.Aus  -> pourcentage de Positif :      30.758 %\n",
      "EVAL :\n",
      "Nombre de fichier :  49400\n",
      "Bb.Aus  -> pourcentage de Positif :      30.615 %\n",
      " \n",
      "Split is done ! You now can train a network on the development set and apply it on the evaluation set.\n"
     ]
    }
   ],
   "source": [
    "SplitDataset_DevEval_main(dataset_ID, LengthFile, analysis_fs, Task_ID, BM_Name, SelectionMethod, DeveloppmentDatasetPortion, SplitName)"
   ]
  },
  {
   "cell_type": "code",
   "execution_count": null,
   "id": "d7b99a37-702b-4dc6-9708-6ad0555e89f9",
   "metadata": {},
   "outputs": [],
   "source": []
  }
 ],
 "metadata": {
  "kernelspec": {
   "display_name": "Python 3",
   "language": "python",
   "name": "python3"
  },
  "language_info": {
   "codemirror_mode": {
    "name": "ipython",
    "version": 3
   },
   "file_extension": ".py",
   "mimetype": "text/x-python",
   "name": "python",
   "nbconvert_exporter": "python",
   "pygments_lexer": "ipython3",
   "version": "3.8.8"
  }
 },
 "nbformat": 4,
 "nbformat_minor": 5
}
