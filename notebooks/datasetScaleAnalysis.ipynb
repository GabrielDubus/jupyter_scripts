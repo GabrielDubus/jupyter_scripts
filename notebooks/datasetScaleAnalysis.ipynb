{
 "cells": [
  {
   "cell_type": "markdown",
   "metadata": {},
   "source": [
    "#### <span style=\"color:blue\">*JUST RUN CELL*</span>"
   ]
  },
  {
   "cell_type": "code",
   "execution_count": 1,
   "metadata": {},
   "outputs": [],
   "source": [
    "import os \n",
    "os.chdir( \"/home/datawork-osmose/notebook_source\" )\n",
    "from launcher_datasetScale import main, job_monitoring, display_metadata, list_datasets, visu_adjustSpectros"
   ]
  },
  {
   "cell_type": "markdown",
   "metadata": {},
   "source": [
    "#### <span style=\"color:red\">*FILL & RUN CELL*</span>\n",
    "\n",
    "- ``dataset_ID`` : nom du jeu de données à traiter\n",
    "- ``analysis_fs`` : nouvelle fréquence d'échantillonnage pour la génération des spectrogrammes (si on souhaite étudier seulement une bande de fréquences"
   ]
  },
  {
   "cell_type": "code",
   "execution_count": 2,
   "metadata": {},
   "outputs": [
    {
     "name": "stdout",
     "output_type": "stream",
     "text": [
      "Available datasets:\n",
      "  - DDU2018\n",
      "  - DDU2019\n",
      "  - Hadocc\n",
      "  - argoLOV\n",
      "  - azoresIfremer\n",
      "  - datasets.csv\n",
      "  - fromveur256000\n",
      "  - gliderSPAms\n",
      "  - gliderSPAmsDemo\n",
      "  - gliderWHOI\n",
      "  - gliderWalterShoals\n",
      "  - ml17_280a\n",
      "  - ohasisbio2015wker\n"
     ]
    }
   ],
   "source": [
    "list_datasets()"
   ]
  },
  {
   "cell_type": "code",
   "execution_count": 3,
   "metadata": {},
   "outputs": [
    {
     "name": "stdout",
     "output_type": "stream",
     "text": [
      "Original sample frequency (Hz) : 256000.0\n",
      "2017-10-17T22:00  -->  2017-12-21T15:00\n",
      "Cumulated number of days : 64\n",
      "Original audio file duration (s) : 1200\n",
      "Duty cycle (%) : nan\n",
      "Total number of files: 1545\n",
      "Auxiliary files : []\n",
      "***************************\n",
      "Existing analysis paramaters (fileDuration_sampleFrequency) : ['1200_32000', '600_256000']\n"
     ]
    }
   ],
   "source": [
    "dataset_ID = 'fromveur256000'\n",
    "\n",
    "display_metadata(dataset_ID)"
   ]
  },
  {
   "cell_type": "markdown",
   "metadata": {},
   "source": [
    "#### <span style=\"color:red\">*FILL & RUN CELL*</span>"
   ]
  },
  {
   "cell_type": "code",
   "execution_count": 4,
   "metadata": {},
   "outputs": [],
   "source": [
    "analysis_fs = 256000"
   ]
  },
  {
   "cell_type": "markdown",
   "metadata": {},
   "source": [
    "### Generate spectrograms / features\n",
    "\n",
    "- `datasetScale_maxDisplaySpectro` is the time duration (in offset aliases, see https://pandas.pydata.org/pandas-docs/stable/user_guide/timeseries.html#timeseries-offset-aliases) of the spectrogram display window. To generate a single spectrogram over the entire campaign, set to `'all'` ; a duration larger than the campaign duration is equivalent to `'all'` ;\n",
    "\n",
    "- `spectroGO` : set to True to generate spectrograms ;\n",
    "\n",
    "- `datasetScale_timeResoAggregation` is the time resolution (in offset aliases, see https://pandas.pydata.org/pandas-docs/stable/user_guide/timeseries.html#timeseries-offset-aliases) over which features will be aggregated ;\n",
    "\n",
    "- `newFeaturesGO` : set to True to save UPA features ;\n",
    "\n",
    "- `aux_file` : name of the csv file containing auxiliary variables. Write `''` if no auxiliary variables ;\n",
    "- `aux_variable` : name of the auxiliary variables. Write `''` if no auxiliary variables. Write `'aux1-aux2-aux3'` in case of several variables. For example, `aux_variable = 'w10-tp'`  for the two variables w10 and tp."
   ]
  },
  {
   "cell_type": "markdown",
   "metadata": {},
   "source": [
    "#### <span style=\"color:red\">*FILL & RUN CELL*</span>"
   ]
  },
  {
   "cell_type": "code",
   "execution_count": 9,
   "metadata": {},
   "outputs": [],
   "source": [
    "maxDisplaySpectro = '1W'\n",
    "spectroGO = True\n",
    "\n",
    "timeResoAggregation = '60S' \n",
    "newFeaturesGO = False\n",
    "\n",
    "aux_file = ''\n",
    "aux_variable = ''\n",
    "\n",
    "normalizeByMax_welch = False\n",
    "\n",
    "delete_featuresLS = False # useful when you want to create a datasetLS with join when you do not have it yet"
   ]
  },
  {
   "cell_type": "markdown",
   "metadata": {},
   "source": [
    "#### <span style=\"color:blue\">*JUST RUN CELL*</span> Generate spectrograms and/or save features."
   ]
  },
  {
   "cell_type": "code",
   "execution_count": 10,
   "metadata": {},
   "outputs": [
    {
     "name": "stdout",
     "output_type": "stream",
     "text": [
      "for debug: 22.22222222222222  must be inferior to 30\n"
     ]
    }
   ],
   "source": [
    "main(dataset_ID,analysis_fs,maxDisplaySpectro,timeResoAggregation,aux_variable,aux_file,spectroGO,newFeaturesGO,normalizeByMax_welch,delete_featuresLS)"
   ]
  },
  {
   "cell_type": "markdown",
   "metadata": {},
   "source": [
    "### <span style=\"color:blue\">*JUST RUN CELL*</span>  Track progress at any time\n",
    "\n",
    "When all tasks have dissapeared or written DONE, then you are DONE !"
   ]
  },
  {
   "cell_type": "code",
   "execution_count": 7,
   "metadata": {},
   "outputs": [
    {
     "name": "stdout",
     "output_type": "stream",
     "text": [
      "o ONGOING -> Generate dataset scale spectrograms in: /home/datawork-osmose/dataset/fromveur256000/analysis/spectrograms/1D_256000\n"
     ]
    }
   ],
   "source": [
    "job_monitoring(dataset_ID,analysis_fs)"
   ]
  },
  {
   "cell_type": "markdown",
   "metadata": {},
   "source": [
    "#### <span style=\"color:blue\">*JUST RUN CELL*</span>  Visualize spectrograms. \n",
    "\n",
    "Re-run this cell to update the folder of images because they keep being generated while you visualize them. If this set of parameters does not suit you, change them and re-run new spectrograms with the previous cells, as many times as you want."
   ]
  },
  {
   "cell_type": "code",
   "execution_count": 8,
   "metadata": {},
   "outputs": [
    {
     "name": "stdout",
     "output_type": "stream",
     "text": [
      "Spectrograms not ready yet, please wait a bit..\n"
     ]
    }
   ],
   "source": [
    "visu_adjustSpectros(dataset_ID , analysis_fs , maxDisplaySpectro)"
   ]
  }
 ],
 "metadata": {
  "kernelspec": {
   "display_name": "Python [conda env:allohaEnv]",
   "language": "python",
   "name": "conda-env-allohaEnv-py"
  },
  "language_info": {
   "codemirror_mode": {
    "name": "ipython",
    "version": 3
   },
   "file_extension": ".py",
   "mimetype": "text/x-python",
   "name": "python",
   "nbconvert_exporter": "python",
   "pygments_lexer": "ipython3",
   "version": "3.6.10"
  }
 },
 "nbformat": 4,
 "nbformat_minor": 2
}
