{
 "cells": [
  {
   "cell_type": "markdown",
   "metadata": {},
   "source": [
    "#### <span style=\"color:blue\">*JUST RUN CELL*</span>"
   ]
  },
  {
   "cell_type": "code",
   "execution_count": 22,
   "metadata": {},
   "outputs": [],
   "source": [
    "import os \n",
    "os.chdir(os.path.join(\"/home/datawork-osmose/\",'notebook_source'))\n",
    "from launcher_fileScale import main, job_monitoring, visu_adjustSpectros, params_recommendation, display_metadata, list_datasets, params_checkingNberPixels"
   ]
  },
  {
   "cell_type": "markdown",
   "metadata": {},
   "source": [
    "#### <span style=\"color:red\">*FILL & RUN CELLS*</span>\n",
    "\n",
    "- ``dataset_ID`` is the name of the dataset to be processed;\n",
    "- ``analysis_fs`` is the sample frequency you want to use for your analysis, which can be different from the original one."
   ]
  },
  {
   "cell_type": "code",
   "execution_count": 23,
   "metadata": {},
   "outputs": [
    {
     "name": "stdout",
     "output_type": "stream",
     "text": [
      "Available datasets:\n",
      "  - DDU2018\n",
      "  - DDU2019\n",
      "  - Hadocc\n",
      "  - SPMAuralA_2010\n",
      "  - SPMAuralA_2011\n",
      "  - TP_OFB_HF\n",
      "  - argoLOV\n",
      "  - azoresIfremer\n",
      "  - fromveur256000\n",
      "  - gliderSPAms\n",
      "  - gliderSPAmsDemo\n",
      "  - gliderSPAms_TP_SOIA\n",
      "  - gliderWHOI\n",
      "  - gliderWalterShoals\n",
      "  - ml17_280a\n",
      "  - ohasisbio2015wker\n"
     ]
    }
   ],
   "source": [
    "list_datasets()"
   ]
  },
  {
   "cell_type": "code",
   "execution_count": 24,
   "metadata": {
    "scrolled": true
   },
   "outputs": [
    {
     "name": "stdout",
     "output_type": "stream",
     "text": [
      "Original sample frequency (Hz) : 78125\n",
      "2017-05-05T14:01  -->  2018-03-17T23:58\n",
      "Cumulated number of days : 316\n",
      "Original audio file duration (s) : 303\n",
      "Total number of files: 246\n",
      "Auxiliary files : ['ECMWF_1.csv', 'metaMobilePAM.csv', 'sensor-buoyBoussole.csv', 'sensor-rainOnshore.csv']\n",
      "***************************\n",
      "Existing analysis paramaters (fileDuration_sampleFrequency) : ['150_78125', '303_8000', '40_78125', '60_12000']\n"
     ]
    }
   ],
   "source": [
    "dataset_ID = 'argoLOV'\n",
    "display_metadata(dataset_ID)"
   ]
  },
  {
   "cell_type": "code",
   "execution_count": 25,
   "metadata": {},
   "outputs": [],
   "source": [
    "analysis_fs = 3000"
   ]
  },
  {
   "cell_type": "markdown",
   "metadata": {},
   "source": [
    "### Analysis types"
   ]
  },
  {
   "cell_type": "markdown",
   "metadata": {},
   "source": [
    "- `makeAPLOSEcampaign` : set to `True` to format spectrograms for an APLOSE campaign, or set to `False` to save spectrograms in a simple folder."
   ]
  },
  {
   "cell_type": "code",
   "execution_count": 26,
   "metadata": {},
   "outputs": [],
   "source": [
    "makeAPLOSEcampaign = True\n",
    "\n",
    "performDetection = False # FAUT QUE JE LE RETESTE AVANT QUE VOUS ESSAYEZ !!"
   ]
  },
  {
   "cell_type": "markdown",
   "metadata": {},
   "source": [
    "### General spectrogram parameters "
   ]
  },
  {
   "cell_type": "markdown",
   "metadata": {},
   "source": [
    "Set spectrogram parameters as a number of samples : `nfft`, `winsize`, `overlap`. `winsize` and `overlap` must be set as lists of values, whose length correspond to the number of zoom levels you want, e.g. `winsize = [512,512,256,256]` will give you 4 zoom levels as follows: zoom 0 has duration `maxtime_display_spectro` sec, zoom 1 has duration `maxtime_display_spectro`/2 sec, zoom 2 has duration `maxtime_display_spectro`/4 sec and zoom 3 has duration `maxtime_display_spectro`/8 sec\n",
    "\n",
    "Set `maxtime_display_spectro` (in s) is the maximal duration of spectrogram display window. Must be inferior or equal to your original audio file duration. FOR THE MOMENT `maxtime_display_spectro` MUST BE INFERIOR TO 3600s !! If set to `'orig'`, the original audio file duration will be taken."
   ]
  },
  {
   "cell_type": "code",
   "execution_count": 27,
   "metadata": {},
   "outputs": [],
   "source": [
    "maxtime_display_spectro = 'orig' # s\n",
    "\n",
    "nfft = 2048 # samples\n",
    "winsize = [1024,1024,512] # samples\n",
    "overlap = [60,80,85]   # %\n",
    "\n",
    "min_color_val = - 90\n",
    "colmapspectros = \"gray\""
   ]
  },
  {
   "cell_type": "markdown",
   "metadata": {},
   "source": [
    "`nberAdjustSpectros` is the number of audio files used to select your spectrogram parameters. If you are really not sure about your parameters, it is better to choose a small number number, because each time you will have to wait for the generation of your `nberAdjustSpectros` spectrograms before being able to re-generate spectrograms with another set of parameters."
   ]
  },
  {
   "cell_type": "code",
   "execution_count": 28,
   "metadata": {},
   "outputs": [],
   "source": [
    "nberAdjustSpectros = 1"
   ]
  },
  {
   "cell_type": "markdown",
   "metadata": {},
   "source": [
    "### <span style=\"color:red\">*RUN CELL*</span>   Check spectrogram dimension w.r.t your screen resolution !"
   ]
  },
  {
   "cell_type": "markdown",
   "metadata": {},
   "source": [
    "Here is how many time windows you have for the different zoom levels. They MUST be as many as your screen resolution (typically 1920x1080 pixels , (horizontal pixels) x (vertical pixels) ) to avoid numerical compression during image generation as well as useless over-resoluted spectrograms obtained at a high computational cost."
   ]
  },
  {
   "cell_type": "code",
   "execution_count": 29,
   "metadata": {},
   "outputs": [
    {
     "name": "stdout",
     "output_type": "stream",
     "text": [
      "your number of time windows: 2215 at level= 0\n",
      "your number of time windows: 2213 at level= 1\n",
      "your number of time windows: 2945 at level= 2\n",
      "\n",
      "\n",
      "at level= 0 , your resolutions : time =  0.14 (s) / frequency =  1.5 (Hz)\n",
      "at level= 1 , your resolutions : time =  0.07 (s) / frequency =  1.5 (Hz)\n",
      "at level= 2 , your resolutions : time =  0.03 (s) / frequency =  1.5 (Hz)\n"
     ]
    }
   ],
   "source": [
    "params_checkingNberPixels(analysis_fs,maxtime_display_spectro,nfft,winsize,overlap,len(winsize),dataset_ID)\n",
    "\n",
    "print('\\n')\n",
    "for level in range(len(winsize)):\n",
    "    print('at level=',level,', your resolutions : time = ',round((winsize[level] - winsize[level]* overlap[level]/100) / analysis_fs,2),'(s) / frequency = ', round(analysis_fs/nfft,1) ,'(Hz)' )"
   ]
  },
  {
   "cell_type": "markdown",
   "metadata": {},
   "source": [
    "### <span style=\"color:blue\">*JUST RUN CELL*</span> Adjust your spectrogram parameters by visualizing examples."
   ]
  },
  {
   "cell_type": "code",
   "execution_count": 30,
   "metadata": {},
   "outputs": [
    {
     "name": "stdout",
     "output_type": "stream",
     "text": [
      "Generating 1 spectrograms for parameter selection! In a few seconds, your first spectrograms will be visible in the next cell..\n"
     ]
    }
   ],
   "source": [
    "main(dataset_ID,analysis_fs, nfft ,winsize,nberAdjustSpectros,overlap,colmapspectros,len(winsize),min_color_val,maxtime_display_spectro,makeAPLOSEcampaign,performDetection)"
   ]
  },
  {
   "cell_type": "markdown",
   "metadata": {},
   "source": [
    "#### <span style=\"color:blue\">*JUST RUN CELL*</span>  Visualize `nberAdjustSpectros` spectrograms to adjust parameters. \n",
    "\n",
    "Re-run this cell to update the folder of images because they keep being generated while you visualize them. If this set of parameters does not suit you, change them and re-run new spectrograms with the previous cells, as many times as you want."
   ]
  },
  {
   "cell_type": "code",
   "execution_count": 34,
   "metadata": {
    "scrolled": true
   },
   "outputs": [
    {
     "data": {
      "application/vnd.jupyter.widget-view+json": {
       "model_id": "df1ae31a40a74bef9255b9caf8a6116b",
       "version_major": 2,
       "version_minor": 0
      },
      "text/plain": [
       "interactive(children=(Dropdown(description='file', options=('channelA_2017-05-07_16-35-11_1_0.png', 'channelA_…"
      ]
     },
     "metadata": {},
     "output_type": "display_data"
    }
   ],
   "source": [
    "visu_adjustSpectros()"
   ]
  },
  {
   "cell_type": "markdown",
   "metadata": {},
   "source": [
    "### <span style=\"color:blue\">*JUST RUN CELL*</span>  Launch COMPLETE spectrogram generation"
   ]
  },
  {
   "cell_type": "code",
   "execution_count": 36,
   "metadata": {},
   "outputs": [
    {
     "name": "stdout",
     "output_type": "stream",
     "text": [
      "OK we are generating all data for your annotation campaign now ! \n",
      " \n",
      " You can look at the progress bar in the cell below, or you can leave Jupyter and come back to Earth, your job is done, we will mail you when it is done ;) \n"
     ]
    }
   ],
   "source": [
    "main(dataset_ID,analysis_fs, nfft ,winsize,0,overlap,colmapspectros,len(winsize),min_color_val,maxtime_display_spectro,makeAPLOSEcampaign,performDetection)"
   ]
  },
  {
   "cell_type": "markdown",
   "metadata": {},
   "source": [
    "# To track job progress"
   ]
  },
  {
   "cell_type": "markdown",
   "metadata": {},
   "source": [
    "### <span style=\"color:blue\">*JUST RUN CELL*</span>  Counting bars"
   ]
  },
  {
   "cell_type": "code",
   "execution_count": null,
   "metadata": {
    "scrolled": true
   },
   "outputs": [],
   "source": [
    "job_monitoring(dataset_ID,analysis_fs,nfft,winsize,overlap,min_color_val)"
   ]
  }
 ],
 "metadata": {
  "kernelspec": {
   "display_name": "Python [conda env:allohaEnv]",
   "language": "python",
   "name": "conda-env-allohaEnv-py"
  },
  "language_info": {
   "codemirror_mode": {
    "name": "ipython",
    "version": 3
   },
   "file_extension": ".py",
   "mimetype": "text/x-python",
   "name": "python",
   "nbconvert_exporter": "python",
   "pygments_lexer": "ipython3",
   "version": "3.6.10"
  }
 },
 "nbformat": 4,
 "nbformat_minor": 2
}
